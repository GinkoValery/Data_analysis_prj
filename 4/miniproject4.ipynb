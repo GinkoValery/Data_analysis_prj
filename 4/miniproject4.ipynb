{
 "cells": [
  {
   "cell_type": "code",
   "execution_count": 5,
   "id": "ee235ec6-2f59-4ada-b953-842c463e2184",
   "metadata": {},
   "outputs": [],
   "source": [
    "from pathlib import Path\n",
    "import pandas as pd\n",
    "import numpy as np\n"
   ]
  },
  {
   "cell_type": "code",
   "execution_count": 32,
   "id": "a458e904-cda8-4724-92c9-d29333940a08",
   "metadata": {},
   "outputs": [
    {
     "data": {
      "text/plain": [
       "WindowsPath('C:/Users/alexoxol/Desktop/Обучение/Карпов_АНАЛИТИК_ДАННЫХ/PYTHON/МИНИПРОЕКТЫ/4/data')"
      ]
     },
     "execution_count": 32,
     "metadata": {},
     "output_type": "execute_result"
    }
   ],
   "source": [
    "# Запишем в переменную path путь к папке с data\n",
    "path = Path(Path.cwd(), 'data')\n",
    "path"
   ]
  },
  {
   "cell_type": "markdown",
   "id": "6745cfcc-1daf-4a48-8a55-6b64b2011842",
   "metadata": {},
   "source": [
    "### 1. Соберите все данные из папки data в один датафрэйм, имеющий следующие столбцы: колонки из самих файлов (product_id, quantity), а также имя пользователя (name), и дата этих покупок (date), соответствует названию папки, где лежит папка с пользователем)"
   ]
  },
  {
   "cell_type": "code",
   "execution_count": 36,
   "id": "fbd3f609-9ba8-4c25-9e87-0e33cd298b8a",
   "metadata": {},
   "outputs": [],
   "source": [
    "def get_data(f, cols):\n",
    "    '''f - полный путь к файлу'''\n",
    "    name = f.parent.name\n",
    "    dt = f.parent.parent.name\n",
    "    df = pd.read_csv(f)[cols]\n",
    "    df[\"name\"] = name\n",
    "    df[\"date\"] = dt\n",
    "    df[\"date\"] = pd.to_datetime(df[\"date\"])\n",
    "    return df"
   ]
  },
  {
   "cell_type": "code",
   "execution_count": 41,
   "id": "48b06e45-2f0c-46c9-be75-7de7cdd6dc61",
   "metadata": {},
   "outputs": [
    {
     "data": {
      "text/html": [
       "<div>\n",
       "<style scoped>\n",
       "    .dataframe tbody tr th:only-of-type {\n",
       "        vertical-align: middle;\n",
       "    }\n",
       "\n",
       "    .dataframe tbody tr th {\n",
       "        vertical-align: top;\n",
       "    }\n",
       "\n",
       "    .dataframe thead th {\n",
       "        text-align: right;\n",
       "    }\n",
       "</style>\n",
       "<table border=\"1\" class=\"dataframe\">\n",
       "  <thead>\n",
       "    <tr style=\"text-align: right;\">\n",
       "      <th></th>\n",
       "      <th>product_id</th>\n",
       "      <th>quantity</th>\n",
       "      <th>name</th>\n",
       "      <th>date</th>\n",
       "    </tr>\n",
       "  </thead>\n",
       "  <tbody>\n",
       "    <tr>\n",
       "      <th>0</th>\n",
       "      <td>47</td>\n",
       "      <td>1</td>\n",
       "      <td>Alexey_Smirnov</td>\n",
       "      <td>2020-12-03</td>\n",
       "    </tr>\n",
       "    <tr>\n",
       "      <th>1</th>\n",
       "      <td>57</td>\n",
       "      <td>1</td>\n",
       "      <td>Alexey_Smirnov</td>\n",
       "      <td>2020-12-03</td>\n",
       "    </tr>\n",
       "    <tr>\n",
       "      <th>2</th>\n",
       "      <td>14</td>\n",
       "      <td>2</td>\n",
       "      <td>Alexey_Smirnov</td>\n",
       "      <td>2020-12-03</td>\n",
       "    </tr>\n",
       "    <tr>\n",
       "      <th>3</th>\n",
       "      <td>52</td>\n",
       "      <td>1</td>\n",
       "      <td>Alexey_Smirnov</td>\n",
       "      <td>2020-12-03</td>\n",
       "    </tr>\n",
       "    <tr>\n",
       "      <th>4</th>\n",
       "      <td>1</td>\n",
       "      <td>4</td>\n",
       "      <td>Alexey_Smirnov</td>\n",
       "      <td>2020-12-03</td>\n",
       "    </tr>\n",
       "  </tbody>\n",
       "</table>\n",
       "</div>"
      ],
      "text/plain": [
       "   product_id  quantity            name       date\n",
       "0          47         1  Alexey_Smirnov 2020-12-03\n",
       "1          57         1  Alexey_Smirnov 2020-12-03\n",
       "2          14         2  Alexey_Smirnov 2020-12-03\n",
       "3          52         1  Alexey_Smirnov 2020-12-03\n",
       "4           1         4  Alexey_Smirnov 2020-12-03"
      ]
     },
     "execution_count": 41,
     "metadata": {},
     "output_type": "execute_result"
    }
   ],
   "source": [
    "df = pd.concat([get_data(f, ['product_id', 'quantity']) for f in path.rglob(\"*.csv\")], sort = False)\n",
    "df.head()"
   ]
  },
  {
   "cell_type": "code",
   "execution_count": 42,
   "id": "c121db82-1938-4034-a91f-7f45db8d0d23",
   "metadata": {},
   "outputs": [
    {
     "data": {
      "text/plain": [
       "product_id             int64\n",
       "quantity               int64\n",
       "name                  object\n",
       "date          datetime64[ns]\n",
       "dtype: object"
      ]
     },
     "execution_count": 42,
     "metadata": {},
     "output_type": "execute_result"
    }
   ],
   "source": [
    "df.dtypes"
   ]
  },
  {
   "cell_type": "markdown",
   "id": "f0f53a89-b28c-477d-9bdb-e1a5beaec27d",
   "metadata": {},
   "source": [
    "### 2.\tВыясните, какой пользователь купил больше всего товаров. Если их несколько, то перечислите имена через запятую с пробелом и в алфавитном порядке."
   ]
  },
  {
   "cell_type": "code",
   "execution_count": 65,
   "id": "34bd7af1-6fe4-4241-87ae-9f223d8f8929",
   "metadata": {},
   "outputs": [
    {
     "name": "stdout",
     "output_type": "stream",
     "text": [
      "Alexey_Smirnov, Petr_Smirnov\n"
     ]
    }
   ],
   "source": [
    "task2 = df.groupby(\"name\", as_index=False) \\\n",
    "  .agg({\"quantity\":sum}) \\\n",
    "  .sort_values(by = \"quantity\", ascending = False) \\\n",
    "\n",
    "task2[\"rnk\"] = task2['quantity'] \\\n",
    "                    .rank(method = \"min\", ascending = False)\n",
    "print(\", \".join(list(task2.query(\"rnk == 1\").sort_values(by = \"name\")['name'])))"
   ]
  },
  {
   "cell_type": "markdown",
   "id": "683e5a0a-6ec9-46da-b0c4-a068b98c6041",
   "metadata": {},
   "source": [
    "### 3.\tНайдите топ-10 товаров по числу проданных единиц за всё время и постройте барплот. Сколько было продано единиц товара с product_id==56?"
   ]
  },
  {
   "cell_type": "code",
   "execution_count": 71,
   "id": "96d22a8d-2089-4d58-8e4f-a351b92780a3",
   "metadata": {},
   "outputs": [],
   "source": [
    "import seaborn as sns\n",
    "import matplotlib.pyplot as plt\n",
    "%matplotlib inline"
   ]
  },
  {
   "cell_type": "code",
   "execution_count": 95,
   "id": "a7c6259a-50a4-457b-bea9-64fceaee3464",
   "metadata": {},
   "outputs": [
    {
     "data": {
      "image/png": "[encoded data removed]",
      "text/plain": [
       "<Figure size 432x288 with 1 Axes>"
      ]
     },
     "metadata": {
      "needs_background": "light"
     },
     "output_type": "display_data"
    }
   ],
   "source": [
    "task3 = df.groupby(\"product_id\", as_index=False) \\\n",
    "  .agg({\"quantity\":sum}) \\\n",
    "  .sort_values(by = \"quantity\", ascending = False) \\\n",
    "  .head(10) \n",
    "sns.barplot(data = task3, x = \"product_id\", y = \"quantity\", order = task3.sort_values(by = \"quantity\", ascending = False)[\"product_id\"])\n",
    "plt.tight_layout()"
   ]
  },
  {
   "cell_type": "code",
   "execution_count": 85,
   "id": "6180f04a-ceae-4269-9c51-0200a2de8fa2",
   "metadata": {},
   "outputs": [
    {
     "name": "stdout",
     "output_type": "stream",
     "text": [
      "Количество проданных единиц по товару_56 = 18\n"
     ]
    }
   ],
   "source": [
    "print(f\"Количество проданных единиц по товару_56 = {task3.query('product_id == 56')['quantity'].values[0]}\")"
   ]
  },
  {
   "cell_type": "markdown",
   "id": "b743712b-fb9d-4016-9ab6-307011332bbe",
   "metadata": {},
   "source": [
    "### 4.\tВизуализируйте продажи по дням."
   ]
  },
  {
   "cell_type": "code",
   "execution_count": 94,
   "id": "8d22823a-d0cc-42b5-ba0e-cf41eeceb91e",
   "metadata": {},
   "outputs": [
    {
     "data": {
      "image/png": "[encoded data removed]",
      "text/plain": [
       "<Figure size 432x288 with 1 Axes>"
      ]
     },
     "metadata": {
      "needs_background": "light"
     },
     "output_type": "display_data"
    }
   ],
   "source": [
    "task4 = df.groupby(\"date\", as_index=False) \\\n",
    "  .agg({\"quantity\":sum}) \n",
    "sns.barplot( x = task4[\"date\"].dt.date, y = task4[\"quantity\"]) \n",
    "plt.xticks(rotation=70)\n",
    "plt.tight_layout()"
   ]
  },
  {
   "cell_type": "markdown",
   "id": "4dfbc594-4381-4c2a-90d9-f06569baa6a9",
   "metadata": {},
   "source": [
    "### 5.\tСколько пользователей приобрели какой-либо товар повторно (более 1 раза)? Повтором будем считать покупку товара с одинаковым product_id, совершенную в разные дни. "
   ]
  },
  {
   "cell_type": "code",
   "execution_count": 100,
   "id": "e7cf59c2-ade8-416e-885f-3d26d588c273",
   "metadata": {},
   "outputs": [
    {
     "data": {
      "text/html": [
       "<div>\n",
       "<style scoped>\n",
       "    .dataframe tbody tr th:only-of-type {\n",
       "        vertical-align: middle;\n",
       "    }\n",
       "\n",
       "    .dataframe tbody tr th {\n",
       "        vertical-align: top;\n",
       "    }\n",
       "\n",
       "    .dataframe thead th {\n",
       "        text-align: right;\n",
       "    }\n",
       "</style>\n",
       "<table border=\"1\" class=\"dataframe\">\n",
       "  <thead>\n",
       "    <tr style=\"text-align: right;\">\n",
       "      <th></th>\n",
       "      <th>name</th>\n",
       "      <th>product_id</th>\n",
       "      <th>date</th>\n",
       "    </tr>\n",
       "  </thead>\n",
       "  <tbody>\n",
       "    <tr>\n",
       "      <th>37</th>\n",
       "      <td>Anton_Ivanov</td>\n",
       "      <td>15</td>\n",
       "      <td>2</td>\n",
       "    </tr>\n",
       "    <tr>\n",
       "      <th>92</th>\n",
       "      <td>Petr_Fedorov</td>\n",
       "      <td>94</td>\n",
       "      <td>2</td>\n",
       "    </tr>\n",
       "  </tbody>\n",
       "</table>\n",
       "</div>"
      ],
      "text/plain": [
       "            name  product_id  date\n",
       "37  Anton_Ivanov          15     2\n",
       "92  Petr_Fedorov          94     2"
      ]
     },
     "execution_count": 100,
     "metadata": {},
     "output_type": "execute_result"
    }
   ],
   "source": [
    "df.groupby([\"name\", \"product_id\"], as_index=False) \\\n",
    "  .agg({\"date\":pd.Series.nunique}) \\\n",
    "  .query(\"date > 1\")"
   ]
  },
  {
   "cell_type": "code",
   "execution_count": 102,
   "id": "1e9750b8-e63b-4d5e-a27b-1df2f3da8dfb",
   "metadata": {},
   "outputs": [
    {
     "data": {
      "text/plain": [
       "2"
      ]
     },
     "execution_count": 102,
     "metadata": {},
     "output_type": "execute_result"
    }
   ],
   "source": [
    "df.groupby([\"name\", \"product_id\"], as_index=False) \\\n",
    "  .agg({\"date\":pd.Series.nunique}) \\\n",
    "  .query(\"date > 1\")[\"name\"] \\\n",
    "  .nunique()"
   ]
  },
  {
   "cell_type": "markdown",
   "id": "ab452805-cffd-4b2f-b632-e19e7a98ae35",
   "metadata": {
    "jp-MarkdownHeadingCollapsed": true,
    "tags": []
   },
   "source": [
    "## Дополнительный проект\n",
    "И небольшой минипроект на фильтрацию данных!\n",
    "</br>\n",
    "Имеется таблица с записями о компаниях, включая их ИНН, и отдельный текстовый файл с набором ИНН (колонка head_inn), которые хранятся в файле 4_inn.\n",
    "</br>\n",
    "•\t4_inn.xls — таблица в экселевском формате\n",
    "</br>\n",
    "•\t4_necessary_inn.txt — перечень необходимых ИНН в текстовом формате\n",
    "</br>\n",
    "</br>\n",
    "</br>\n",
    "Задачи:\n",
    "</br>\n",
    "•\tизвлечь из таблицы записи с ИНН, указанными в текстовом файле\n",
    "</br>\n",
    "•\tзаписать результат в файл selected_inn.csv\n",
    "</br>\n",
    "•\tВ качестве проверки укажите сумму колонки income,RUB в отобранных данных.\n",
    "</br>\n",
    "•\tNB! У набора данных necessary_inn.txt нет заголовка, поэтому вам пригодится аргумент header=None. \n"
   ]
  },
  {
   "cell_type": "code",
   "execution_count": 106,
   "id": "851c6d20-1029-4519-8c78-3388670df1ed",
   "metadata": {},
   "outputs": [
    {
     "data": {
      "text/html": [
       "<div>\n",
       "<style scoped>\n",
       "    .dataframe tbody tr th:only-of-type {\n",
       "        vertical-align: middle;\n",
       "    }\n",
       "\n",
       "    .dataframe tbody tr th {\n",
       "        vertical-align: top;\n",
       "    }\n",
       "\n",
       "    .dataframe thead th {\n",
       "        text-align: right;\n",
       "    }\n",
       "</style>\n",
       "<table border=\"1\" class=\"dataframe\">\n",
       "  <thead>\n",
       "    <tr style=\"text-align: right;\">\n",
       "      <th></th>\n",
       "      <th>Unnamed: 0</th>\n",
       "      <th>#</th>\n",
       "      <th>name</th>\n",
       "      <th>reg_number</th>\n",
       "      <th>address</th>\n",
       "      <th>head</th>\n",
       "      <th>head_job</th>\n",
       "      <th>head_inn</th>\n",
       "      <th>phone</th>\n",
       "      <th>email</th>\n",
       "      <th>site</th>\n",
       "      <th>registration_date</th>\n",
       "      <th>nalogoplatelschik_code</th>\n",
       "      <th>oktmo_code</th>\n",
       "      <th>okato_code</th>\n",
       "      <th>registration_region</th>\n",
       "      <th>okato_name</th>\n",
       "      <th>field</th>\n",
       "      <th>capital,RUB</th>\n",
       "      <th>income,RUB</th>\n",
       "    </tr>\n",
       "  </thead>\n",
       "  <tbody>\n",
       "    <tr>\n",
       "      <th>0</th>\n",
       "      <td>0</td>\n",
       "      <td>0</td>\n",
       "      <td>ЗАО «Власова, Макаров и Шашков»</td>\n",
       "      <td>1143692580560</td>\n",
       "      <td>д. Кирово-Чепецк, пр. Металлургов, д. 537 к. 3...</td>\n",
       "      <td>Жданов Карл Виленович</td>\n",
       "      <td>Маммолог</td>\n",
       "      <td>109092209811</td>\n",
       "      <td>+7 (559) 338-87-76</td>\n",
       "      <td>bogdanovavtonom@yahoo.com</td>\n",
       "      <td>ooo.info</td>\n",
       "      <td>2015-01-07</td>\n",
       "      <td>2006-10-04</td>\n",
       "      <td>21112877268</td>\n",
       "      <td>73423615032</td>\n",
       "      <td>Ulan-Ude</td>\n",
       "      <td>к. Тосно, ул. Пушкинская, д. 896, 617222</td>\n",
       "      <td>Синхронизация критически важных отношений</td>\n",
       "      <td>54875526078</td>\n",
       "      <td>32205872896</td>\n",
       "    </tr>\n",
       "    <tr>\n",
       "      <th>1</th>\n",
       "      <td>1</td>\n",
       "      <td>1</td>\n",
       "      <td>РАО «Тимофеева, Алексеева и Кузнецова»</td>\n",
       "      <td>9342309660697</td>\n",
       "      <td>г. Арзамас, наб. Фестивальная, д. 7 стр. 8/2, ...</td>\n",
       "      <td>Рожков Харлампий Алексеевич</td>\n",
       "      <td>Воспитатель</td>\n",
       "      <td>704229465069</td>\n",
       "      <td>8 (632) 620-8879</td>\n",
       "      <td>safonovantonin@rao.org</td>\n",
       "      <td>ooo.net</td>\n",
       "      <td>1990-05-16</td>\n",
       "      <td>2019-01-18</td>\n",
       "      <td>18393547520</td>\n",
       "      <td>19072454279</td>\n",
       "      <td>Tyoply Stan</td>\n",
       "      <td>ст. Кяхта, бул. Нефтяников, д. 24, 768742</td>\n",
       "      <td>Формирование заказных методик</td>\n",
       "      <td>33876448811</td>\n",
       "      <td>47437574301</td>\n",
       "    </tr>\n",
       "    <tr>\n",
       "      <th>2</th>\n",
       "      <td>2</td>\n",
       "      <td>2</td>\n",
       "      <td>РАО «Юдин-Ефимова»</td>\n",
       "      <td>1277485323451</td>\n",
       "      <td>п. Меренга, алл. Достоевского, д. 3/4 к. 497, ...</td>\n",
       "      <td>Филимон Фадеевич Дьячков</td>\n",
       "      <td>Автослесарь</td>\n",
       "      <td>267655036377</td>\n",
       "      <td>+74925330378</td>\n",
       "      <td>kdorofeev@npo.ru</td>\n",
       "      <td>ao.com</td>\n",
       "      <td>1982-11-04</td>\n",
       "      <td>1986-06-19</td>\n",
       "      <td>56104355836</td>\n",
       "      <td>18629292792</td>\n",
       "      <td>Danilov</td>\n",
       "      <td>клх Усолье Сибирское, алл. Шишкина, д. 3/9 к. ...</td>\n",
       "      <td>Максимизация корпоративных метрик</td>\n",
       "      <td>94073834991</td>\n",
       "      <td>7701710065</td>\n",
       "    </tr>\n",
       "    <tr>\n",
       "      <th>3</th>\n",
       "      <td>3</td>\n",
       "      <td>3</td>\n",
       "      <td>Доронин Инкорпорэйтед</td>\n",
       "      <td>7139161431511</td>\n",
       "      <td>д. Иваново, ул. Красных Партизан, д. 83 к. 4, ...</td>\n",
       "      <td>Крылов Глеб Якубович</td>\n",
       "      <td>Тюремный надзиратель</td>\n",
       "      <td>362024991175</td>\n",
       "      <td>+7 118 643 21 48</td>\n",
       "      <td>nkulakova@mail.ru</td>\n",
       "      <td>ooo.ru</td>\n",
       "      <td>2005-01-02</td>\n",
       "      <td>2004-04-06</td>\n",
       "      <td>10398489351</td>\n",
       "      <td>32502585383</td>\n",
       "      <td>Beryozovsky</td>\n",
       "      <td>г. Заводоуковск, ул. Гражданская, д. 7 к. 8/5,...</td>\n",
       "      <td>Разработка ориентированных на пользователя инт...</td>\n",
       "      <td>86971505490</td>\n",
       "      <td>61148002572</td>\n",
       "    </tr>\n",
       "    <tr>\n",
       "      <th>4</th>\n",
       "      <td>4</td>\n",
       "      <td>4</td>\n",
       "      <td>Объединенная энергетическая компания</td>\n",
       "      <td>6114798049639</td>\n",
       "      <td>к. Энгельс, наб. Шишкина, д. 120, 823828</td>\n",
       "      <td>Субботин Вячеслав Федотович</td>\n",
       "      <td>Инженер-электрик</td>\n",
       "      <td>257948948010</td>\n",
       "      <td>8 642 249 2134</td>\n",
       "      <td>evgraf_18@yahoo.com</td>\n",
       "      <td>gerasimova.biz</td>\n",
       "      <td>1983-07-02</td>\n",
       "      <td>1992-06-20</td>\n",
       "      <td>20074507047</td>\n",
       "      <td>40083207999</td>\n",
       "      <td>Bavly</td>\n",
       "      <td>к. Соль-Илецк, пер. Пригородный, д. 804 к. 1/3...</td>\n",
       "      <td>Монетизация интуитивных веб-сервисов</td>\n",
       "      <td>36351136214</td>\n",
       "      <td>34861533393</td>\n",
       "    </tr>\n",
       "  </tbody>\n",
       "</table>\n",
       "</div>"
      ],
      "text/plain": [
       "   Unnamed: 0  #                                    name     reg_number  \\\n",
       "0           0  0         ЗАО «Власова, Макаров и Шашков»  1143692580560   \n",
       "1           1  1  РАО «Тимофеева, Алексеева и Кузнецова»  9342309660697   \n",
       "2           2  2                      РАО «Юдин-Ефимова»  1277485323451   \n",
       "3           3  3                   Доронин Инкорпорэйтед  7139161431511   \n",
       "4           4  4    Объединенная энергетическая компания  6114798049639   \n",
       "\n",
       "                                             address  \\\n",
       "0  д. Кирово-Чепецк, пр. Металлургов, д. 537 к. 3...   \n",
       "1  г. Арзамас, наб. Фестивальная, д. 7 стр. 8/2, ...   \n",
       "2  п. Меренга, алл. Достоевского, д. 3/4 к. 497, ...   \n",
       "3  д. Иваново, ул. Красных Партизан, д. 83 к. 4, ...   \n",
       "4           к. Энгельс, наб. Шишкина, д. 120, 823828   \n",
       "\n",
       "                          head              head_job      head_inn  \\\n",
       "0        Жданов Карл Виленович              Маммолог  109092209811   \n",
       "1  Рожков Харлампий Алексеевич           Воспитатель  704229465069   \n",
       "2     Филимон Фадеевич Дьячков           Автослесарь  267655036377   \n",
       "3         Крылов Глеб Якубович  Тюремный надзиратель  362024991175   \n",
       "4  Субботин Вячеслав Федотович      Инженер-электрик  257948948010   \n",
       "\n",
       "                phone                      email            site  \\\n",
       "0  +7 (559) 338-87-76  bogdanovavtonom@yahoo.com        ooo.info   \n",
       "1    8 (632) 620-8879     safonovantonin@rao.org         ooo.net   \n",
       "2        +74925330378           kdorofeev@npo.ru          ao.com   \n",
       "3    +7 118 643 21 48          nkulakova@mail.ru          ooo.ru   \n",
       "4      8 642 249 2134        evgraf_18@yahoo.com  gerasimova.biz   \n",
       "\n",
       "  registration_date nalogoplatelschik_code   oktmo_code   okato_code  \\\n",
       "0        2015-01-07             2006-10-04  21112877268  73423615032   \n",
       "1        1990-05-16             2019-01-18  18393547520  19072454279   \n",
       "2        1982-11-04             1986-06-19  56104355836  18629292792   \n",
       "3        2005-01-02             2004-04-06  10398489351  32502585383   \n",
       "4        1983-07-02             1992-06-20  20074507047  40083207999   \n",
       "\n",
       "  registration_region                                         okato_name  \\\n",
       "0            Ulan-Ude           к. Тосно, ул. Пушкинская, д. 896, 617222   \n",
       "1         Tyoply Stan          ст. Кяхта, бул. Нефтяников, д. 24, 768742   \n",
       "2             Danilov  клх Усолье Сибирское, алл. Шишкина, д. 3/9 к. ...   \n",
       "3         Beryozovsky  г. Заводоуковск, ул. Гражданская, д. 7 к. 8/5,...   \n",
       "4               Bavly  к. Соль-Илецк, пер. Пригородный, д. 804 к. 1/3...   \n",
       "\n",
       "                                               field  capital,RUB   income,RUB  \n",
       "0          Синхронизация критически важных отношений  54875526078  32205872896  \n",
       "1                      Формирование заказных методик  33876448811  47437574301  \n",
       "2                  Максимизация корпоративных метрик  94073834991   7701710065  \n",
       "3  Разработка ориентированных на пользователя инт...  86971505490  61148002572  \n",
       "4               Монетизация интуитивных веб-сервисов  36351136214  34861533393  "
      ]
     },
     "execution_count": 106,
     "metadata": {},
     "output_type": "execute_result"
    }
   ],
   "source": [
    "xls = pd.read_excel('4_inn.xls')\n",
    "xls.head()"
   ]
  },
  {
   "cell_type": "code",
   "execution_count": 115,
   "id": "f6b77e93-f09c-4be8-a5fa-529f43842011",
   "metadata": {},
   "outputs": [
    {
     "data": {
      "text/plain": [
       "Unnamed: 0                 int64\n",
       "#                          int64\n",
       "name                      object\n",
       "reg_number                 int64\n",
       "address                   object\n",
       "head                      object\n",
       "head_job                  object\n",
       "head_inn                   int64\n",
       "phone                     object\n",
       "email                     object\n",
       "site                      object\n",
       "registration_date         object\n",
       "nalogoplatelschik_code    object\n",
       "oktmo_code                 int64\n",
       "okato_code                 int64\n",
       "registration_region       object\n",
       "okato_name                object\n",
       "field                     object\n",
       "capital,RUB                int64\n",
       "income,RUB                 int64\n",
       "dtype: object"
      ]
     },
     "execution_count": 115,
     "metadata": {},
     "output_type": "execute_result"
    }
   ],
   "source": [
    "xls.dtypes"
   ]
  },
  {
   "cell_type": "code",
   "execution_count": 118,
   "id": "28e76370-9b5f-4ef6-8292-baa80c44f121",
   "metadata": {},
   "outputs": [
    {
     "data": {
      "text/html": [
       "<div>\n",
       "<style scoped>\n",
       "    .dataframe tbody tr th:only-of-type {\n",
       "        vertical-align: middle;\n",
       "    }\n",
       "\n",
       "    .dataframe tbody tr th {\n",
       "        vertical-align: top;\n",
       "    }\n",
       "\n",
       "    .dataframe thead th {\n",
       "        text-align: right;\n",
       "    }\n",
       "</style>\n",
       "<table border=\"1\" class=\"dataframe\">\n",
       "  <thead>\n",
       "    <tr style=\"text-align: right;\">\n",
       "      <th></th>\n",
       "      <th>head_inn</th>\n",
       "    </tr>\n",
       "  </thead>\n",
       "  <tbody>\n",
       "    <tr>\n",
       "      <th>0</th>\n",
       "      <td>394609645484</td>\n",
       "    </tr>\n",
       "    <tr>\n",
       "      <th>1</th>\n",
       "      <td>281578625230</td>\n",
       "    </tr>\n",
       "    <tr>\n",
       "      <th>2</th>\n",
       "      <td>923769811917</td>\n",
       "    </tr>\n",
       "    <tr>\n",
       "      <th>3</th>\n",
       "      <td>998694734508</td>\n",
       "    </tr>\n",
       "    <tr>\n",
       "      <th>4</th>\n",
       "      <td>271011690615</td>\n",
       "    </tr>\n",
       "  </tbody>\n",
       "</table>\n",
       "</div>"
      ],
      "text/plain": [
       "       head_inn\n",
       "0  394609645484\n",
       "1  281578625230\n",
       "2  923769811917\n",
       "3  998694734508\n",
       "4  271011690615"
      ]
     },
     "execution_count": 118,
     "metadata": {},
     "output_type": "execute_result"
    }
   ],
   "source": [
    "txt = pd.read_csv(\"4_necessary_inn.txt\", header=None).rename(columns = {0:\"head_inn\"})\n",
    "\n",
    "txt.head()"
   ]
  },
  {
   "cell_type": "code",
   "execution_count": 119,
   "id": "15a7b3e8-473f-4611-af40-524982c9c151",
   "metadata": {},
   "outputs": [
    {
     "data": {
      "text/plain": [
       "head_inn    int64\n",
       "dtype: object"
      ]
     },
     "execution_count": 119,
     "metadata": {},
     "output_type": "execute_result"
    }
   ],
   "source": [
    "txt.dtypes"
   ]
  },
  {
   "cell_type": "code",
   "execution_count": 122,
   "id": "19184416-4477-4576-9ef1-6aea3a4e0b8e",
   "metadata": {},
   "outputs": [],
   "source": [
    "selected_inn = xls.merge(txt, on = \"head_inn\", how = \"inner\")\n",
    "selected_inn.to_csv(\"selected_inn.csv\", index = False)"
   ]
  },
  {
   "cell_type": "code",
   "execution_count": 125,
   "id": "dc3c6013-a581-4e1b-b951-7776137e25f6",
   "metadata": {},
   "outputs": [
    {
     "data": {
      "text/plain": [
       "6104522627393"
      ]
     },
     "execution_count": 125,
     "metadata": {},
     "output_type": "execute_result"
    }
   ],
   "source": [
    "selected_inn['income,RUB'].sum()\n"
   ]
  }
 ],
 "metadata": {
  "kernelspec": {
   "display_name": "Python 3 (ipykernel)",
   "language": "python",
   "name": "python3"
  },
  "language_info": {
   "codemirror_mode": {
    "name": "ipython",
    "version": 3
   },
   "file_extension": ".py",
   "mimetype": "text/x-python",
   "name": "python",
   "nbconvert_exporter": "python",
   "pygments_lexer": "ipython3",
   "version": "3.9.7"
  }
 },
 "nbformat": 4,
 "nbformat_minor": 5
}
